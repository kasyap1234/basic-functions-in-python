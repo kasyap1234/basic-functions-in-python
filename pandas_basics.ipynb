{
  "nbformat": 4,
  "nbformat_minor": 0,
  "metadata": {
    "colab": {
      "name": "pandas_basics.ipynb",
      "provenance": [],
      "authorship_tag": "ABX9TyPUg6pgtBnls3I5UDdk3VcP",
      "include_colab_link": true
    },
    "kernelspec": {
      "name": "python3",
      "display_name": "Python 3"
    },
    "language_info": {
      "name": "python"
    }
  },
  "cells": [
    {
      "cell_type": "markdown",
      "metadata": {
        "id": "view-in-github",
        "colab_type": "text"
      },
      "source": [
        "<a href=\"https://colab.research.google.com/github/kasyap1234/basic-functions-in-python/blob/main/pandas_basics.ipynb\" target=\"_parent\"><img src=\"https://colab.research.google.com/assets/colab-badge.svg\" alt=\"Open In Colab\"/></a>"
      ]
    },
    {
      "cell_type": "code",
      "metadata": {
        "id": "UmDvBNyjBVrF"
      },
      "source": [
        "import pandas as pd \n",
        "mydata={'car': ['volvo','bmw','benz'], \n",
        "'marks': [3,7,2]}\n",
        "mydata_df=pd.DataFrame(mydata)\n"
      ],
      "execution_count": 1,
      "outputs": []
    },
    {
      "cell_type": "code",
      "metadata": {
        "colab": {
          "base_uri": "https://localhost:8080/"
        },
        "id": "cAf80IhZ8e5m",
        "outputId": "677f8b42-9cef-4592-a8eb-031c1ac37652"
      },
      "source": [
        "print(mydata_df)"
      ],
      "execution_count": 2,
      "outputs": [
        {
          "output_type": "stream",
          "text": [
            "     car  marks\n",
            "0  volvo      3\n",
            "1    bmw      7\n",
            "2   benz      2\n"
          ],
          "name": "stdout"
        }
      ]
    },
    {
      "cell_type": "code",
      "metadata": {
        "colab": {
          "base_uri": "https://localhost:8080/"
        },
        "id": "cThmpxhj8nj3",
        "outputId": "547bc2d5-0ab8-4542-f501-c53ee15cf8c5"
      },
      "source": [
        "nums=[10,3,20]\n",
        "# converting into a data frame \n",
        "nums_df=pd.DataFrame(nums)\n",
        "print(nums_df)\n"
      ],
      "execution_count": 3,
      "outputs": [
        {
          "output_type": "stream",
          "text": [
            "    0\n",
            "0  10\n",
            "1   3\n",
            "2  20\n"
          ],
          "name": "stdout"
        }
      ]
    },
    {
      "cell_type": "code",
      "metadata": {
        "colab": {
          "base_uri": "https://localhost:8080/"
        },
        "id": "oSdXZwbs9bz1",
        "outputId": "65842193-e4a9-4923-a661-46b8cc9920b5"
      },
      "source": [
        "b=pd.Series(nums)\n",
        "print(b)"
      ],
      "execution_count": 6,
      "outputs": [
        {
          "output_type": "stream",
          "text": [
            "0    10\n",
            "1     3\n",
            "2    20\n",
            "dtype: int64\n"
          ],
          "name": "stdout"
        }
      ]
    },
    {
      "cell_type": "code",
      "metadata": {
        "colab": {
          "base_uri": "https://localhost:8080/"
        },
        "id": "EKhyzlvz9ngE",
        "outputId": "2674c198-7a9f-4797-df0a-b21a23c80df8"
      },
      "source": [
        "data={\n",
        "    'players':['messi','virat kohli','neymar jr'], \n",
        "    'value': [300,200,250]\n",
        "\n",
        "}\n",
        "table=pd.DataFrame(data,index=['football','cricket','football'])\n",
        "print(table)\n"
      ],
      "execution_count": 10,
      "outputs": [
        {
          "output_type": "stream",
          "text": [
            "              players  value\n",
            "football        messi    300\n",
            "cricket   virat kohli    200\n",
            "football    neymar jr    250\n"
          ],
          "name": "stdout"
        }
      ]
    },
    {
      "cell_type": "code",
      "metadata": {
        "id": "7yS1Xs3N-U9L"
      },
      "source": [
        ""
      ],
      "execution_count": null,
      "outputs": []
    }
  ]
}