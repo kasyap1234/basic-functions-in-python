{
  "nbformat": 4,
  "nbformat_minor": 0,
  "metadata": {
    "colab": {
      "name": "pandas.ipynb",
      "provenance": [],
      "collapsed_sections": [],
      "authorship_tag": "ABX9TyM0zrBL7UQxGWlHo8yfa2gF",
      "include_colab_link": true
    },
    "kernelspec": {
      "name": "python3",
      "display_name": "Python 3"
    },
    "language_info": {
      "name": "python"
    }
  },
  "cells": [
    {
      "cell_type": "markdown",
      "metadata": {
        "id": "view-in-github",
        "colab_type": "text"
      },
      "source": [
        "<a href=\"https://colab.research.google.com/github/kasyap1234/basic-functions-in-python/blob/main/pandas.ipynb\" target=\"_parent\"><img src=\"https://colab.research.google.com/assets/colab-badge.svg\" alt=\"Open In Colab\"/></a>"
      ]
    },
    {
      "cell_type": "code",
      "metadata": {
        "colab": {
          "base_uri": "https://localhost:8080/",
          "height": 112
        },
        "id": "bIrZ5LzO340e",
        "outputId": "8a10b395-b58e-4f9a-9dd5-601b7b72c4fd"
      },
      "source": [
        "import pandas as pd\n",
        "pd.DataFrame({'Kasyap': [100,94],'unna': [90,92]}, index=['student 1 ','student 2'])"
      ],
      "execution_count": 2,
      "outputs": [
        {
          "output_type": "execute_result",
          "data": {
            "text/html": [
              "<div>\n",
              "<style scoped>\n",
              "    .dataframe tbody tr th:only-of-type {\n",
              "        vertical-align: middle;\n",
              "    }\n",
              "\n",
              "    .dataframe tbody tr th {\n",
              "        vertical-align: top;\n",
              "    }\n",
              "\n",
              "    .dataframe thead th {\n",
              "        text-align: right;\n",
              "    }\n",
              "</style>\n",
              "<table border=\"1\" class=\"dataframe\">\n",
              "  <thead>\n",
              "    <tr style=\"text-align: right;\">\n",
              "      <th></th>\n",
              "      <th>Kasyap</th>\n",
              "      <th>unna</th>\n",
              "    </tr>\n",
              "  </thead>\n",
              "  <tbody>\n",
              "    <tr>\n",
              "      <th>student 1</th>\n",
              "      <td>100</td>\n",
              "      <td>90</td>\n",
              "    </tr>\n",
              "    <tr>\n",
              "      <th>student 2</th>\n",
              "      <td>94</td>\n",
              "      <td>92</td>\n",
              "    </tr>\n",
              "  </tbody>\n",
              "</table>\n",
              "</div>"
            ],
            "text/plain": [
              "            Kasyap  unna\n",
              "student 1      100    90\n",
              "student 2       94    92"
            ]
          },
          "metadata": {},
          "execution_count": 2
        }
      ]
    },
    {
      "cell_type": "markdown",
      "metadata": {
        "id": "cmQTX0qK4mp6"
      },
      "source": [
        "pandas Series : \n",
        "\n",
        ">\n",
        " similar to python list \n",
        "\n",
        "\n"
      ]
    },
    {
      "cell_type": "code",
      "metadata": {
        "colab": {
          "base_uri": "https://localhost:8080/"
        },
        "id": "RLS2WudQ4xvr",
        "outputId": "3f9d0307-701e-4f2a-e08e-c5e487e0a695"
      },
      "source": [
        "pd.Series([10,20,30,40],index=['kohli','rahane','pujara','naruto'])"
      ],
      "execution_count": 5,
      "outputs": [
        {
          "output_type": "execute_result",
          "data": {
            "text/plain": [
              "kohli     10\n",
              "rahane    20\n",
              "pujara    30\n",
              "naruto    40\n",
              "dtype: int64"
            ]
          },
          "metadata": {},
          "execution_count": 5
        }
      ]
    },
    {
      "cell_type": "markdown",
      "metadata": {
        "id": "qfE0ptYh5Su-"
      },
      "source": [
        "Reading data files \n"
      ]
    },
    {
      "cell_type": "code",
      "metadata": {
        "id": "iBnGMgvu5WMM"
      },
      "source": [
        "# df=pd.read_csv('filepath') ; \n",
        "#df.head()"
      ],
      "execution_count": null,
      "outputs": []
    }
  ]
}